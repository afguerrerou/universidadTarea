{
  "nbformat": 4,
  "nbformat_minor": 0,
  "metadata": {
    "colab": {
      "name": "pythonDBmysql.ipynb",
      "provenance": [],
      "toc_visible": true,
      "authorship_tag": "ABX9TyNRPJjgSC9qi9egx2udl+ND",
      "include_colab_link": true
    },
    "kernelspec": {
      "name": "python3",
      "display_name": "Python 3"
    },
    "language_info": {
      "name": "python"
    }
  },
  "cells": [
    {
      "cell_type": "markdown",
      "metadata": {
        "id": "view-in-github",
        "colab_type": "text"
      },
      "source": [
        "<a href=\"https://colab.research.google.com/github/afguerrerou/universidadTarea/blob/main/pythonDBmysql.ipynb\" target=\"_parent\"><img src=\"https://colab.research.google.com/assets/colab-badge.svg\" alt=\"Open In Colab\"/></a>"
      ]
    },
    {
      "cell_type": "code",
      "execution_count": 1,
      "metadata": {
        "colab": {
          "base_uri": "https://localhost:8080/"
        },
        "id": "N-v42A55XgZe",
        "outputId": "b6e36311-c753-44fe-8a86-7ab0effe53af"
      },
      "outputs": [
        {
          "output_type": "stream",
          "name": "stdout",
          "text": [
            "Looking in indexes: https://pypi.org/simple, https://us-python.pkg.dev/colab-wheels/public/simple/\n",
            "Collecting python-dotenv\n",
            "  Downloading python_dotenv-0.20.0-py3-none-any.whl (17 kB)\n",
            "Collecting mysqlclient\n",
            "  Downloading mysqlclient-2.1.1.tar.gz (88 kB)\n",
            "\u001b[K     |████████████████████████████████| 88 kB 3.4 MB/s \n",
            "\u001b[?25hBuilding wheels for collected packages: mysqlclient\n",
            "  Building wheel for mysqlclient (setup.py) ... \u001b[?25l\u001b[?25hdone\n",
            "  Created wheel for mysqlclient: filename=mysqlclient-2.1.1-cp37-cp37m-linux_x86_64.whl size=99985 sha256=3d718686ddc4bae95057a9162e24bfe650ff671aea6ea08a2a20d97d0aba85a6\n",
            "  Stored in directory: /root/.cache/pip/wheels/95/2d/67/2cb3f82e435fc8e055cb2761a15a0812bf086068f6fb835462\n",
            "Successfully built mysqlclient\n",
            "Installing collected packages: python-dotenv, mysqlclient\n",
            "Successfully installed mysqlclient-2.1.1 python-dotenv-0.20.0\n"
          ]
        }
      ],
      "source": [
        "pip install python-dotenv mysqlclient"
      ]
    },
    {
      "cell_type": "code",
      "source": [
        "pip install mysql-connector-python"
      ],
      "metadata": {
        "colab": {
          "base_uri": "https://localhost:8080/"
        },
        "id": "JMK5XAqmXunl",
        "outputId": "3f2dbe95-e1f1-46f0-fb79-e0ccc1614f91"
      },
      "execution_count": 9,
      "outputs": [
        {
          "output_type": "stream",
          "name": "stdout",
          "text": [
            "Looking in indexes: https://pypi.org/simple, https://us-python.pkg.dev/colab-wheels/public/simple/\n",
            "Collecting mysql-connector-python\n",
            "  Downloading mysql_connector_python-8.0.30-cp37-cp37m-manylinux1_x86_64.whl (25.4 MB)\n",
            "\u001b[K     |████████████████████████████████| 25.4 MB 2.2 MB/s \n",
            "\u001b[?25hRequirement already satisfied: protobuf<=3.20.1,>=3.11.0 in /usr/local/lib/python3.7/dist-packages (from mysql-connector-python) (3.17.3)\n",
            "Requirement already satisfied: six>=1.9 in /usr/local/lib/python3.7/dist-packages (from protobuf<=3.20.1,>=3.11.0->mysql-connector-python) (1.15.0)\n",
            "Installing collected packages: mysql-connector-python\n",
            "Successfully installed mysql-connector-python-8.0.30\n"
          ]
        }
      ]
    },
    {
      "cell_type": "code",
      "source": [
        "import mysql.connector\n",
        "\n",
        "mydb = mysql.connector.connect(\n",
        "  host=\"us-east.connect.psdb.cloud\",\n",
        "  user=\"1csex2b7gc5uthqdo0ij\",\n",
        "  password=\"pscale_pw_EdcYNppwYcnaUs0RcmvwtFnizFpfUDu7sfEtO11YQLm\"\n",
        ")\n",
        "\n",
        "print(mydb)"
      ],
      "metadata": {
        "colab": {
          "base_uri": "https://localhost:8080/"
        },
        "id": "h29NsJ1bY0nW",
        "outputId": "71bbafe4-94eb-4b77-921d-a176305b016e"
      },
      "execution_count": 12,
      "outputs": [
        {
          "output_type": "stream",
          "name": "stdout",
          "text": [
            "<mysql.connector.connection_cext.CMySQLConnection object at 0x7f2863bdc950>\n"
          ]
        }
      ]
    },
    {
      "cell_type": "code",
      "source": [
        "import mysql.connector\n",
        "\n",
        "mydb = mysql.connector.connect(\n",
        "  host=\"us-east.connect.psdb.cloud\",\n",
        "  user=\"1csex2b7gc5uthqdo0ij\",\n",
        "  password=\"pscale_pw_EdcYNppwYcnaUs0RcmvwtFnizFpfUDu7sfEtO11YQLm\"\n",
        ")\n",
        "\n",
        "mycursor = mydb.cursor()\n",
        "\n",
        "mycursor.execute(\"SHOW DATABASES\")\n",
        "\n",
        "for x in mycursor:\n",
        "  print(x)"
      ],
      "metadata": {
        "colab": {
          "base_uri": "https://localhost:8080/"
        },
        "id": "LTI6r_HnZHFd",
        "outputId": "28775559-e86f-4a84-c79e-e73783e255ce"
      },
      "execution_count": 18,
      "outputs": [
        {
          "output_type": "stream",
          "name": "stdout",
          "text": [
            "('universidad',)\n",
            "('information_schema',)\n",
            "('mysql',)\n",
            "('sys',)\n",
            "('performance_schema',)\n"
          ]
        }
      ]
    },
    {
      "cell_type": "code",
      "source": [
        "import mysql.connector\n",
        "\n",
        "mydb = mysql.connector.connect(\n",
        "  host=\"us-east.connect.psdb.cloud\",\n",
        "  user=\"1csex2b7gc5uthqdo0ij\",\n",
        "  password=\"pscale_pw_EdcYNppwYcnaUs0RcmvwtFnizFpfUDu7sfEtO11YQLm\"\n",
        ")\n",
        "\n",
        "mycursor = mydb.cursor()\n",
        "\n",
        "mycursor.execute(\"CREATE TABLE customers (name VARCHAR(255), address VARCHAR(255))\")"
      ],
      "metadata": {
        "id": "GJ7PD1KnZdM1"
      },
      "execution_count": 20,
      "outputs": []
    },
    {
      "cell_type": "code",
      "source": [
        "import mysql.connector\n",
        "\n",
        "mydb = mysql.connector.connect(\n",
        "  host=\"us-east.connect.psdb.cloud\",\n",
        "  user=\"1csex2b7gc5uthqdo0ij\",\n",
        "  password=\"pscale_pw_EdcYNppwYcnaUs0RcmvwtFnizFpfUDu7sfEtO11YQLm\"\n",
        ")\n",
        "\n",
        "mycursor = mydb.cursor()\n",
        "\n",
        "mycursor.execute(\"SHOW TABLES\")\n",
        "\n",
        "for x in mycursor:\n",
        "  print(x)"
      ],
      "metadata": {
        "colab": {
          "base_uri": "https://localhost:8080/"
        },
        "id": "81BMlA8mZP6U",
        "outputId": "38d6ed54-1759-44cf-9c91-2ebbbd2a3ceb"
      },
      "execution_count": 21,
      "outputs": [
        {
          "output_type": "stream",
          "name": "stdout",
          "text": [
            "('customers',)\n"
          ]
        }
      ]
    },
    {
      "cell_type": "code",
      "source": [
        "import mysql.connector\n",
        "\n",
        "mydb = mysql.connector.connect(\n",
        "  host=\"us-east.connect.psdb.cloud\",\n",
        "  user=\"1csex2b7gc5uthqdo0ij\",\n",
        "  password=\"pscale_pw_EdcYNppwYcnaUs0RcmvwtFnizFpfUDu7sfEtO11YQLm\",\n",
        "  database=\"universidad\"\n",
        ")\n",
        "\n",
        "mycursor = mydb.cursor()\n",
        "\n",
        "sql = \"INSERT INTO customers (name, address) VALUES (%s, %s)\"\n",
        "val = (\"John\", \"Highway 21\")\n",
        "mycursor.execute(sql, val)\n",
        "\n",
        "mydb.commit()\n",
        "\n",
        "print(mycursor.rowcount, \"record inserted.\")"
      ],
      "metadata": {
        "colab": {
          "base_uri": "https://localhost:8080/"
        },
        "id": "UwfknwGxapkl",
        "outputId": "2e3ff606-a763-4c8c-cf48-787c71192b16"
      },
      "execution_count": 22,
      "outputs": [
        {
          "output_type": "stream",
          "name": "stdout",
          "text": [
            "1 record inserted.\n"
          ]
        }
      ]
    },
    {
      "cell_type": "code",
      "source": [
        "import mysql.connector\n",
        "\n",
        "mydb = mysql.connector.connect(\n",
        "  host=\"us-east.connect.psdb.cloud\",\n",
        "  user=\"1csex2b7gc5uthqdo0ij\",\n",
        "  password=\"pscale_pw_EdcYNppwYcnaUs0RcmvwtFnizFpfUDu7sfEtO11YQLm\",\n",
        "  database=\"universidad\"\n",
        ")\n",
        "\n",
        "mycursor = mydb.cursor()\n",
        "\n",
        "sql = \"INSERT INTO customers (name, address) VALUES (%s, %s)\"\n",
        "val = [\n",
        "  ('Peter', 'Lowstreet 4'),\n",
        "  ('Amy', 'Apple st 652'),\n",
        "  ('Hannah', 'Mountain 21'),\n",
        "  ('Michael', 'Valley 345'),\n",
        "  ('Sandy', 'Ocean blvd 2'),\n",
        "  ('Betty', 'Green Grass 1'),\n",
        "  ('Richard', 'Sky st 331'),\n",
        "  ('Susan', 'One way 98'),\n",
        "  ('Vicky', 'Yellow Garden 2'),\n",
        "  ('Ben', 'Park Lane 38'),\n",
        "  ('William', 'Central st 954'),\n",
        "  ('Chuck', 'Main Road 989'),\n",
        "  ('Viola', 'Sideway 1633')\n",
        "]\n",
        "\n",
        "mycursor.executemany(sql, val)\n",
        "\n",
        "mydb.commit()\n",
        "\n",
        "print(mycursor.rowcount, \"was inserted.\")"
      ],
      "metadata": {
        "colab": {
          "base_uri": "https://localhost:8080/"
        },
        "id": "hk80e1yaayns",
        "outputId": "47ae41c0-1583-4337-f675-0ab351c7bbbb"
      },
      "execution_count": 23,
      "outputs": [
        {
          "output_type": "stream",
          "name": "stdout",
          "text": [
            "13 was inserted.\n"
          ]
        }
      ]
    }
  ]
}